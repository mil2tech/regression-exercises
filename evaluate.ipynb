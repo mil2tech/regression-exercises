{
 "cells": [
  {
   "cell_type": "code",
   "execution_count": 28,
   "metadata": {},
   "outputs": [],
   "source": [
    "import warnings\n",
    "warnings.filterwarnings(\"ignore\")\n",
    "\n",
    "import pandas as pd\n",
    "import numpy as np\n",
    "\n",
    "import matplotlib.pyplot as plt\n",
    "import seaborn as sns\n",
    "\n",
    "from sklearn.model_selection import train_test_split\n",
    "from scipy.stats import pearsonr, spearmanr\n",
    "\n",
    "import env\n",
    "import wrangle\n",
    "\n",
    "from scipy import stats\n",
    "from sklearn.metrics import mean_squared_error, r2_score, explained_variance_score\n",
    "\n",
    "\n",
    "from sklearn.linear_model import LinearRegression\n",
    "from sklearn.feature_selection import f_regression \n",
    "from math import sqrt"
   ]
  },
  {
   "cell_type": "code",
   "execution_count": 2,
   "metadata": {},
   "outputs": [],
   "source": [
    "df = wrangle.wrangle_zillow()"
   ]
  },
  {
   "cell_type": "code",
   "execution_count": 42,
   "metadata": {},
   "outputs": [
    {
     "data": {
      "text/html": [
       "<div>\n",
       "<style scoped>\n",
       "    .dataframe tbody tr th:only-of-type {\n",
       "        vertical-align: middle;\n",
       "    }\n",
       "\n",
       "    .dataframe tbody tr th {\n",
       "        vertical-align: top;\n",
       "    }\n",
       "\n",
       "    .dataframe thead th {\n",
       "        text-align: right;\n",
       "    }\n",
       "</style>\n",
       "<table border=\"1\" class=\"dataframe\">\n",
       "  <thead>\n",
       "    <tr style=\"text-align: right;\">\n",
       "      <th></th>\n",
       "      <th>bedroomcnt</th>\n",
       "      <th>bathroomcnt</th>\n",
       "      <th>calculatedfinishedsquarefeet</th>\n",
       "      <th>taxvaluedollarcnt</th>\n",
       "      <th>yearbuilt</th>\n",
       "      <th>taxamount</th>\n",
       "      <th>fips</th>\n",
       "    </tr>\n",
       "  </thead>\n",
       "  <tbody>\n",
       "  </tbody>\n",
       "</table>\n",
       "</div>"
      ],
      "text/plain": [
       "Empty DataFrame\n",
       "Columns: [bedroomcnt, bathroomcnt, calculatedfinishedsquarefeet, taxvaluedollarcnt, yearbuilt, taxamount, fips]\n",
       "Index: []"
      ]
     },
     "execution_count": 42,
     "metadata": {},
     "output_type": "execute_result"
    }
   ],
   "source": [
    "df.head(0)"
   ]
  },
  {
   "cell_type": "markdown",
   "metadata": {},
   "source": [
    "##### Split dataset into 3 samples"
   ]
  },
  {
   "cell_type": "code",
   "execution_count": 3,
   "metadata": {},
   "outputs": [],
   "source": [
    "zillow_train, zillow_test = train_test_split(df, test_size=.2, random_state=123)\n",
    "zillow_train, zillow_validate = train_test_split(zillow_train, test_size=.3, random_state=123)"
   ]
  },
  {
   "cell_type": "code",
   "execution_count": 44,
   "metadata": {},
   "outputs": [],
   "source": [
    "x = df['calculatedfinishedsquarefeet']\n",
    "y = df['taxvaluedollarcnt']"
   ]
  },
  {
   "cell_type": "markdown",
   "metadata": {},
   "source": [
    "##### Plot train x and y variable on scatter plot"
   ]
  },
  {
   "cell_type": "code",
   "execution_count": 6,
   "metadata": {},
   "outputs": [
    {
     "data": {
      "image/png": "[encoded data removed]",
      "text/plain": [
       "<Figure size 432x288 with 1 Axes>"
      ]
     },
     "metadata": {
      "needs_background": "light"
     },
     "output_type": "display_data"
    }
   ],
   "source": [
    "# look at scatter of x vs y\n",
    "plt.scatter(zillow_train.calculatedfinishedsquarefeet, zillow_train.taxvaluedollarcnt)\n",
    "plt.xlabel('x = calculatedfinishedsquarefeet')\n",
    "plt.ylabel('y = taxvaluedollarcnt');"
   ]
  },
  {
   "cell_type": "markdown",
   "metadata": {},
   "source": [
    "##### Create baseline"
   ]
  },
  {
   "cell_type": "code",
   "execution_count": 7,
   "metadata": {},
   "outputs": [
    {
     "data": {
      "text/plain": [
       "398734.9540404411"
      ]
     },
     "execution_count": 7,
     "metadata": {},
     "output_type": "execute_result"
    }
   ],
   "source": [
    "baseline = zillow_train.taxvaluedollarcnt.mean()\n",
    "baseline"
   ]
  },
  {
   "cell_type": "code",
   "execution_count": 8,
   "metadata": {},
   "outputs": [
    {
     "data": {
      "text/html": [
       "<div>\n",
       "<style scoped>\n",
       "    .dataframe tbody tr th:only-of-type {\n",
       "        vertical-align: middle;\n",
       "    }\n",
       "\n",
       "    .dataframe tbody tr th {\n",
       "        vertical-align: top;\n",
       "    }\n",
       "\n",
       "    .dataframe thead th {\n",
       "        text-align: right;\n",
       "    }\n",
       "</style>\n",
       "<table border=\"1\" class=\"dataframe\">\n",
       "  <thead>\n",
       "    <tr style=\"text-align: right;\">\n",
       "      <th></th>\n",
       "      <th>bedroomcnt</th>\n",
       "      <th>bathroomcnt</th>\n",
       "      <th>calculatedfinishedsquarefeet</th>\n",
       "      <th>taxvaluedollarcnt</th>\n",
       "      <th>yearbuilt</th>\n",
       "      <th>taxamount</th>\n",
       "      <th>fips</th>\n",
       "      <th>baseline</th>\n",
       "    </tr>\n",
       "  </thead>\n",
       "  <tbody>\n",
       "    <tr>\n",
       "      <th>421888</th>\n",
       "      <td>3</td>\n",
       "      <td>2.0</td>\n",
       "      <td>1550.0</td>\n",
       "      <td>357034.0</td>\n",
       "      <td>1961</td>\n",
       "      <td>4418.72</td>\n",
       "      <td>6037</td>\n",
       "      <td>398734.95404</td>\n",
       "    </tr>\n",
       "    <tr>\n",
       "      <th>548087</th>\n",
       "      <td>3</td>\n",
       "      <td>3.5</td>\n",
       "      <td>1800.0</td>\n",
       "      <td>287774.0</td>\n",
       "      <td>1996</td>\n",
       "      <td>2798.18</td>\n",
       "      <td>6059</td>\n",
       "      <td>398734.95404</td>\n",
       "    </tr>\n",
       "    <tr>\n",
       "      <th>714717</th>\n",
       "      <td>3</td>\n",
       "      <td>2.0</td>\n",
       "      <td>1542.0</td>\n",
       "      <td>588738.0</td>\n",
       "      <td>1923</td>\n",
       "      <td>7210.51</td>\n",
       "      <td>6037</td>\n",
       "      <td>398734.95404</td>\n",
       "    </tr>\n",
       "    <tr>\n",
       "      <th>749704</th>\n",
       "      <td>3</td>\n",
       "      <td>1.0</td>\n",
       "      <td>1128.0</td>\n",
       "      <td>290984.0</td>\n",
       "      <td>1952</td>\n",
       "      <td>3622.02</td>\n",
       "      <td>6037</td>\n",
       "      <td>398734.95404</td>\n",
       "    </tr>\n",
       "    <tr>\n",
       "      <th>539577</th>\n",
       "      <td>0</td>\n",
       "      <td>1.0</td>\n",
       "      <td>396.0</td>\n",
       "      <td>34541.0</td>\n",
       "      <td>1942</td>\n",
       "      <td>579.61</td>\n",
       "      <td>6037</td>\n",
       "      <td>398734.95404</td>\n",
       "    </tr>\n",
       "  </tbody>\n",
       "</table>\n",
       "</div>"
      ],
      "text/plain": [
       "        bedroomcnt  bathroomcnt  calculatedfinishedsquarefeet  \\\n",
       "421888           3          2.0                        1550.0   \n",
       "548087           3          3.5                        1800.0   \n",
       "714717           3          2.0                        1542.0   \n",
       "749704           3          1.0                        1128.0   \n",
       "539577           0          1.0                         396.0   \n",
       "\n",
       "        taxvaluedollarcnt  yearbuilt  taxamount  fips      baseline  \n",
       "421888           357034.0       1961    4418.72  6037  398734.95404  \n",
       "548087           287774.0       1996    2798.18  6059  398734.95404  \n",
       "714717           588738.0       1923    7210.51  6037  398734.95404  \n",
       "749704           290984.0       1952    3622.02  6037  398734.95404  \n",
       "539577            34541.0       1942     579.61  6037  398734.95404  "
      ]
     },
     "execution_count": 8,
     "metadata": {},
     "output_type": "execute_result"
    }
   ],
   "source": [
    "#baseline is mean of dependent variable\n",
    "zillow_train['baseline'] = zillow_train.taxvaluedollarcnt.mean()\n",
    "zillow_train.head()"
   ]
  },
  {
   "cell_type": "markdown",
   "metadata": {},
   "source": [
    "##### Plot train data with baseline"
   ]
  },
  {
   "cell_type": "code",
   "execution_count": 9,
   "metadata": {},
   "outputs": [
    {
     "data": {
      "image/png": "[encoded data removed]",
      "text/plain": [
       "<Figure size 432x288 with 1 Axes>"
      ]
     },
     "metadata": {
      "needs_background": "light"
     },
     "output_type": "display_data"
    }
   ],
   "source": [
    "# plot data with baseline:\n",
    "\n",
    "plt.scatter(zillow_train.calculatedfinishedsquarefeet, zillow_train.taxvaluedollarcnt)\n",
    "plt.axhline(zillow_train.taxvaluedollarcnt.mean(), ls = ':')\n",
    "plt.xlabel('x = calculatedfinishedsquarefeet')\n",
    "plt.ylabel('y = taxvaluedollarcnt')\n",
    "plt.title('Baseline model');"
   ]
  },
  {
   "cell_type": "markdown",
   "metadata": {},
   "source": [
    "##### Create Linear Regression model, fit model to train, and make predictions(yhat) of taxvaluedollarcnt"
   ]
  },
  {
   "cell_type": "code",
   "execution_count": 10,
   "metadata": {},
   "outputs": [
    {
     "data": {
      "text/html": [
       "<div>\n",
       "<style scoped>\n",
       "    .dataframe tbody tr th:only-of-type {\n",
       "        vertical-align: middle;\n",
       "    }\n",
       "\n",
       "    .dataframe tbody tr th {\n",
       "        vertical-align: top;\n",
       "    }\n",
       "\n",
       "    .dataframe thead th {\n",
       "        text-align: right;\n",
       "    }\n",
       "</style>\n",
       "<table border=\"1\" class=\"dataframe\">\n",
       "  <thead>\n",
       "    <tr style=\"text-align: right;\">\n",
       "      <th></th>\n",
       "      <th>bedroomcnt</th>\n",
       "      <th>bathroomcnt</th>\n",
       "      <th>calculatedfinishedsquarefeet</th>\n",
       "      <th>taxvaluedollarcnt</th>\n",
       "      <th>yearbuilt</th>\n",
       "      <th>taxamount</th>\n",
       "      <th>fips</th>\n",
       "      <th>baseline</th>\n",
       "      <th>yhat</th>\n",
       "    </tr>\n",
       "  </thead>\n",
       "  <tbody>\n",
       "    <tr>\n",
       "      <th>421888</th>\n",
       "      <td>3</td>\n",
       "      <td>2.0</td>\n",
       "      <td>1550.0</td>\n",
       "      <td>357034.0</td>\n",
       "      <td>1961</td>\n",
       "      <td>4418.72</td>\n",
       "      <td>6037</td>\n",
       "      <td>398734.95404</td>\n",
       "      <td>357264.612498</td>\n",
       "    </tr>\n",
       "    <tr>\n",
       "      <th>548087</th>\n",
       "      <td>3</td>\n",
       "      <td>3.5</td>\n",
       "      <td>1800.0</td>\n",
       "      <td>287774.0</td>\n",
       "      <td>1996</td>\n",
       "      <td>2798.18</td>\n",
       "      <td>6059</td>\n",
       "      <td>398734.95404</td>\n",
       "      <td>399104.649483</td>\n",
       "    </tr>\n",
       "    <tr>\n",
       "      <th>714717</th>\n",
       "      <td>3</td>\n",
       "      <td>2.0</td>\n",
       "      <td>1542.0</td>\n",
       "      <td>588738.0</td>\n",
       "      <td>1923</td>\n",
       "      <td>7210.51</td>\n",
       "      <td>6037</td>\n",
       "      <td>398734.95404</td>\n",
       "      <td>355925.731315</td>\n",
       "    </tr>\n",
       "    <tr>\n",
       "      <th>749704</th>\n",
       "      <td>3</td>\n",
       "      <td>1.0</td>\n",
       "      <td>1128.0</td>\n",
       "      <td>290984.0</td>\n",
       "      <td>1952</td>\n",
       "      <td>3622.02</td>\n",
       "      <td>6037</td>\n",
       "      <td>398734.95404</td>\n",
       "      <td>286638.630067</td>\n",
       "    </tr>\n",
       "    <tr>\n",
       "      <th>539577</th>\n",
       "      <td>0</td>\n",
       "      <td>1.0</td>\n",
       "      <td>396.0</td>\n",
       "      <td>34541.0</td>\n",
       "      <td>1942</td>\n",
       "      <td>579.61</td>\n",
       "      <td>6037</td>\n",
       "      <td>398734.95404</td>\n",
       "      <td>164131.001774</td>\n",
       "    </tr>\n",
       "    <tr>\n",
       "      <th>...</th>\n",
       "      <td>...</td>\n",
       "      <td>...</td>\n",
       "      <td>...</td>\n",
       "      <td>...</td>\n",
       "      <td>...</td>\n",
       "      <td>...</td>\n",
       "      <td>...</td>\n",
       "      <td>...</td>\n",
       "      <td>...</td>\n",
       "    </tr>\n",
       "    <tr>\n",
       "      <th>83961</th>\n",
       "      <td>3</td>\n",
       "      <td>2.5</td>\n",
       "      <td>2460.0</td>\n",
       "      <td>463327.0</td>\n",
       "      <td>1966</td>\n",
       "      <td>5183.18</td>\n",
       "      <td>6059</td>\n",
       "      <td>398734.95404</td>\n",
       "      <td>509562.347124</td>\n",
       "    </tr>\n",
       "    <tr>\n",
       "      <th>828457</th>\n",
       "      <td>2</td>\n",
       "      <td>1.5</td>\n",
       "      <td>1191.0</td>\n",
       "      <td>517777.0</td>\n",
       "      <td>1987</td>\n",
       "      <td>5353.78</td>\n",
       "      <td>6059</td>\n",
       "      <td>398734.95404</td>\n",
       "      <td>297182.319387</td>\n",
       "    </tr>\n",
       "    <tr>\n",
       "      <th>722901</th>\n",
       "      <td>3</td>\n",
       "      <td>2.0</td>\n",
       "      <td>1755.0</td>\n",
       "      <td>478054.0</td>\n",
       "      <td>1944</td>\n",
       "      <td>5785.01</td>\n",
       "      <td>6037</td>\n",
       "      <td>398734.95404</td>\n",
       "      <td>391573.442826</td>\n",
       "    </tr>\n",
       "    <tr>\n",
       "      <th>821001</th>\n",
       "      <td>3</td>\n",
       "      <td>1.0</td>\n",
       "      <td>1188.0</td>\n",
       "      <td>72975.0</td>\n",
       "      <td>1947</td>\n",
       "      <td>482.63</td>\n",
       "      <td>6037</td>\n",
       "      <td>398734.95404</td>\n",
       "      <td>296680.238943</td>\n",
       "    </tr>\n",
       "    <tr>\n",
       "      <th>1388143</th>\n",
       "      <td>4</td>\n",
       "      <td>2.5</td>\n",
       "      <td>2045.0</td>\n",
       "      <td>224263.0</td>\n",
       "      <td>1989</td>\n",
       "      <td>2218.78</td>\n",
       "      <td>6059</td>\n",
       "      <td>398734.95404</td>\n",
       "      <td>440107.885729</td>\n",
       "    </tr>\n",
       "  </tbody>\n",
       "</table>\n",
       "<p>1172966 rows × 9 columns</p>\n",
       "</div>"
      ],
      "text/plain": [
       "         bedroomcnt  bathroomcnt  calculatedfinishedsquarefeet  \\\n",
       "421888            3          2.0                        1550.0   \n",
       "548087            3          3.5                        1800.0   \n",
       "714717            3          2.0                        1542.0   \n",
       "749704            3          1.0                        1128.0   \n",
       "539577            0          1.0                         396.0   \n",
       "...             ...          ...                           ...   \n",
       "83961             3          2.5                        2460.0   \n",
       "828457            2          1.5                        1191.0   \n",
       "722901            3          2.0                        1755.0   \n",
       "821001            3          1.0                        1188.0   \n",
       "1388143           4          2.5                        2045.0   \n",
       "\n",
       "         taxvaluedollarcnt  yearbuilt  taxamount  fips      baseline  \\\n",
       "421888            357034.0       1961    4418.72  6037  398734.95404   \n",
       "548087            287774.0       1996    2798.18  6059  398734.95404   \n",
       "714717            588738.0       1923    7210.51  6037  398734.95404   \n",
       "749704            290984.0       1952    3622.02  6037  398734.95404   \n",
       "539577             34541.0       1942     579.61  6037  398734.95404   \n",
       "...                    ...        ...        ...   ...           ...   \n",
       "83961             463327.0       1966    5183.18  6059  398734.95404   \n",
       "828457            517777.0       1987    5353.78  6059  398734.95404   \n",
       "722901            478054.0       1944    5785.01  6037  398734.95404   \n",
       "821001             72975.0       1947     482.63  6037  398734.95404   \n",
       "1388143           224263.0       1989    2218.78  6059  398734.95404   \n",
       "\n",
       "                  yhat  \n",
       "421888   357264.612498  \n",
       "548087   399104.649483  \n",
       "714717   355925.731315  \n",
       "749704   286638.630067  \n",
       "539577   164131.001774  \n",
       "...                ...  \n",
       "83961    509562.347124  \n",
       "828457   297182.319387  \n",
       "722901   391573.442826  \n",
       "821001   296680.238943  \n",
       "1388143  440107.885729  \n",
       "\n",
       "[1172966 rows x 9 columns]"
      ]
     },
     "execution_count": 10,
     "metadata": {},
     "output_type": "execute_result"
    }
   ],
   "source": [
    "# Now we fit a regression model using OLS method.\n",
    "# OLS = ordinary least squares.\n",
    "\n",
    "# create the model object\n",
    "lm = LinearRegression(normalize=True)\n",
    "\n",
    "# fit the model to training data\n",
    "lm.fit(zillow_train[['calculatedfinishedsquarefeet']], zillow_train.taxvaluedollarcnt)\n",
    "\n",
    "# make prediction\n",
    "zillow_train['yhat'] = lm.predict(zillow_train[['calculatedfinishedsquarefeet']])\n",
    "\n",
    "zillow_train"
   ]
  },
  {
   "cell_type": "markdown",
   "metadata": {},
   "source": [
    "##### Plot linear regression model with train x and y variable"
   ]
  },
  {
   "cell_type": "code",
   "execution_count": 11,
   "metadata": {},
   "outputs": [
    {
     "data": {
      "image/png": "[encoded data removed]",
      "text/plain": [
       "<Figure size 432x288 with 1 Axes>"
      ]
     },
     "metadata": {
      "needs_background": "light"
     },
     "output_type": "display_data"
    }
   ],
   "source": [
    "# visualize the line of best fit from OLS linear model\n",
    "plt.scatter(zillow_train.calculatedfinishedsquarefeet, zillow_train.taxvaluedollarcnt)\n",
    "plt.plot(zillow_train.calculatedfinishedsquarefeet, zillow_train.yhat)\n",
    "plt.xlabel('x = calculatedfinishedsquarefeet')\n",
    "plt.ylabel('y = taxvaluedollarcnt')\n",
    "plt.title('OLS linear model');"
   ]
  },
  {
   "cell_type": "markdown",
   "metadata": {},
   "source": [
    "### Plot Residuals"
   ]
  },
  {
   "cell_type": "code",
   "execution_count": 12,
   "metadata": {},
   "outputs": [],
   "source": [
    "z_residuals = zillow_train[['calculatedfinishedsquarefeet','taxvaluedollarcnt', 'baseline', 'yhat' ]]"
   ]
  },
  {
   "cell_type": "code",
   "execution_count": 13,
   "metadata": {},
   "outputs": [],
   "source": [
    "# residual = actual - predicted\n",
    "z_residuals['residual'] = z_residuals.taxvaluedollarcnt - z_residuals.yhat\n",
    "z_residuals['baseline_residual'] = z_residuals.taxvaluedollarcnt - z_residuals.baseline"
   ]
  },
  {
   "cell_type": "code",
   "execution_count": 14,
   "metadata": {},
   "outputs": [
    {
     "data": {
      "text/html": [
       "<div>\n",
       "<style scoped>\n",
       "    .dataframe tbody tr th:only-of-type {\n",
       "        vertical-align: middle;\n",
       "    }\n",
       "\n",
       "    .dataframe tbody tr th {\n",
       "        vertical-align: top;\n",
       "    }\n",
       "\n",
       "    .dataframe thead th {\n",
       "        text-align: right;\n",
       "    }\n",
       "</style>\n",
       "<table border=\"1\" class=\"dataframe\">\n",
       "  <thead>\n",
       "    <tr style=\"text-align: right;\">\n",
       "      <th></th>\n",
       "      <th>calculatedfinishedsquarefeet</th>\n",
       "      <th>taxvaluedollarcnt</th>\n",
       "      <th>baseline</th>\n",
       "      <th>yhat</th>\n",
       "      <th>residual</th>\n",
       "      <th>baseline_residual</th>\n",
       "    </tr>\n",
       "  </thead>\n",
       "  <tbody>\n",
       "    <tr>\n",
       "      <th>421888</th>\n",
       "      <td>1550.0</td>\n",
       "      <td>357034.0</td>\n",
       "      <td>398734.95404</td>\n",
       "      <td>357264.612498</td>\n",
       "      <td>-230.612498</td>\n",
       "      <td>-41700.95404</td>\n",
       "    </tr>\n",
       "    <tr>\n",
       "      <th>548087</th>\n",
       "      <td>1800.0</td>\n",
       "      <td>287774.0</td>\n",
       "      <td>398734.95404</td>\n",
       "      <td>399104.649483</td>\n",
       "      <td>-111330.649483</td>\n",
       "      <td>-110960.95404</td>\n",
       "    </tr>\n",
       "    <tr>\n",
       "      <th>714717</th>\n",
       "      <td>1542.0</td>\n",
       "      <td>588738.0</td>\n",
       "      <td>398734.95404</td>\n",
       "      <td>355925.731315</td>\n",
       "      <td>232812.268685</td>\n",
       "      <td>190003.04596</td>\n",
       "    </tr>\n",
       "    <tr>\n",
       "      <th>749704</th>\n",
       "      <td>1128.0</td>\n",
       "      <td>290984.0</td>\n",
       "      <td>398734.95404</td>\n",
       "      <td>286638.630067</td>\n",
       "      <td>4345.369933</td>\n",
       "      <td>-107750.95404</td>\n",
       "    </tr>\n",
       "    <tr>\n",
       "      <th>539577</th>\n",
       "      <td>396.0</td>\n",
       "      <td>34541.0</td>\n",
       "      <td>398734.95404</td>\n",
       "      <td>164131.001774</td>\n",
       "      <td>-129590.001774</td>\n",
       "      <td>-364193.95404</td>\n",
       "    </tr>\n",
       "    <tr>\n",
       "      <th>...</th>\n",
       "      <td>...</td>\n",
       "      <td>...</td>\n",
       "      <td>...</td>\n",
       "      <td>...</td>\n",
       "      <td>...</td>\n",
       "      <td>...</td>\n",
       "    </tr>\n",
       "    <tr>\n",
       "      <th>83961</th>\n",
       "      <td>2460.0</td>\n",
       "      <td>463327.0</td>\n",
       "      <td>398734.95404</td>\n",
       "      <td>509562.347124</td>\n",
       "      <td>-46235.347124</td>\n",
       "      <td>64592.04596</td>\n",
       "    </tr>\n",
       "    <tr>\n",
       "      <th>828457</th>\n",
       "      <td>1191.0</td>\n",
       "      <td>517777.0</td>\n",
       "      <td>398734.95404</td>\n",
       "      <td>297182.319387</td>\n",
       "      <td>220594.680613</td>\n",
       "      <td>119042.04596</td>\n",
       "    </tr>\n",
       "    <tr>\n",
       "      <th>722901</th>\n",
       "      <td>1755.0</td>\n",
       "      <td>478054.0</td>\n",
       "      <td>398734.95404</td>\n",
       "      <td>391573.442826</td>\n",
       "      <td>86480.557174</td>\n",
       "      <td>79319.04596</td>\n",
       "    </tr>\n",
       "    <tr>\n",
       "      <th>821001</th>\n",
       "      <td>1188.0</td>\n",
       "      <td>72975.0</td>\n",
       "      <td>398734.95404</td>\n",
       "      <td>296680.238943</td>\n",
       "      <td>-223705.238943</td>\n",
       "      <td>-325759.95404</td>\n",
       "    </tr>\n",
       "    <tr>\n",
       "      <th>1388143</th>\n",
       "      <td>2045.0</td>\n",
       "      <td>224263.0</td>\n",
       "      <td>398734.95404</td>\n",
       "      <td>440107.885729</td>\n",
       "      <td>-215844.885729</td>\n",
       "      <td>-174471.95404</td>\n",
       "    </tr>\n",
       "  </tbody>\n",
       "</table>\n",
       "<p>1172966 rows × 6 columns</p>\n",
       "</div>"
      ],
      "text/plain": [
       "         calculatedfinishedsquarefeet  taxvaluedollarcnt      baseline  \\\n",
       "421888                         1550.0           357034.0  398734.95404   \n",
       "548087                         1800.0           287774.0  398734.95404   \n",
       "714717                         1542.0           588738.0  398734.95404   \n",
       "749704                         1128.0           290984.0  398734.95404   \n",
       "539577                          396.0            34541.0  398734.95404   \n",
       "...                               ...                ...           ...   \n",
       "83961                          2460.0           463327.0  398734.95404   \n",
       "828457                         1191.0           517777.0  398734.95404   \n",
       "722901                         1755.0           478054.0  398734.95404   \n",
       "821001                         1188.0            72975.0  398734.95404   \n",
       "1388143                        2045.0           224263.0  398734.95404   \n",
       "\n",
       "                  yhat       residual  baseline_residual  \n",
       "421888   357264.612498    -230.612498       -41700.95404  \n",
       "548087   399104.649483 -111330.649483      -110960.95404  \n",
       "714717   355925.731315  232812.268685       190003.04596  \n",
       "749704   286638.630067    4345.369933      -107750.95404  \n",
       "539577   164131.001774 -129590.001774      -364193.95404  \n",
       "...                ...            ...                ...  \n",
       "83961    509562.347124  -46235.347124        64592.04596  \n",
       "828457   297182.319387  220594.680613       119042.04596  \n",
       "722901   391573.442826   86480.557174        79319.04596  \n",
       "821001   296680.238943 -223705.238943      -325759.95404  \n",
       "1388143  440107.885729 -215844.885729      -174471.95404  \n",
       "\n",
       "[1172966 rows x 6 columns]"
      ]
     },
     "execution_count": 14,
     "metadata": {},
     "output_type": "execute_result"
    }
   ],
   "source": [
    "z_residuals"
   ]
  },
  {
   "cell_type": "code",
   "execution_count": 16,
   "metadata": {},
   "outputs": [
    {
     "data": {
      "image/png": "[encoded data removed]",
      "text/plain": [
       "<Figure size 792x360 with 2 Axes>"
      ]
     },
     "metadata": {
      "needs_background": "light"
     },
     "output_type": "display_data"
    }
   ],
   "source": [
    "# residual plots (x vs residual)\n",
    "\n",
    "plt.figure(figsize = (11,5))\n",
    "\n",
    "plt.subplot(121)\n",
    "plt.scatter(z_residuals.calculatedfinishedsquarefeet, z_residuals.baseline_residual)\n",
    "plt.axhline(y = 0, ls = ':')\n",
    "plt.xlabel('calculatedfinishedsquarefeet')\n",
    "plt.ylabel('Residual')\n",
    "plt.title('Baseline Residuals')\n",
    "\n",
    "plt.subplot(122)\n",
    "plt.scatter(z_residuals.calculatedfinishedsquarefeet, z_residuals.residual)\n",
    "plt.axhline(y = 0, ls = ':')\n",
    "plt.xlabel('calculatedfinishedsquarefeet')\n",
    "plt.ylabel('Residual')\n",
    "plt.title('OLS model residuals');"
   ]
  },
  {
   "cell_type": "code",
   "execution_count": 46,
   "metadata": {},
   "outputs": [],
   "source": [
    "yhat = z_residuals['yhat']\n"
   ]
  },
  {
   "cell_type": "code",
   "execution_count": 48,
   "metadata": {},
   "outputs": [],
   "source": [
    "def plot_residuals(y,yhat):\n",
    "    \n",
    "    zillow_train['yhat'] = lm.predict(zillow_train[['calculatedfinishedsquarefeet']])\n",
    "\n",
    "    z_residuals = zillow_train[['calculatedfinishedsquarefeet','taxvaluedollarcnt', 'baseline', 'yhat' ]]\n",
    "\n",
    "    # residual = actual - predicted\n",
    "    z_residuals['residual'] = z_residuals.taxvaluedollarcnt - z_residuals.yhat\n",
    "    z_residuals['baseline_residual'] = z_residuals.taxvaluedollarcnt - z_residuals.baseline\n",
    "\n",
    "    # residual plots (x vs residual)\n",
    "\n",
    "    plt.figure(figsize = (11,5))\n",
    "\n",
    "    plt.subplot(121)\n",
    "    plt.scatter(z_residuals.calculatedfinishedsquarefeet, z_residuals.baseline_residual)\n",
    "    plt.axhline(y = 0, ls = ':')\n",
    "    plt.xlabel('calculatedfinishedsquarefeet')\n",
    "    plt.ylabel('Residual')\n",
    "    plt.title('Baseline Residuals')\n",
    "\n",
    "    plt.subplot(122)\n",
    "    plt.scatter(z_residuals.calculatedfinishedsquarefeet, z_residuals.residual)\n",
    "    plt.axhline(y = 0, ls = ':')\n",
    "    plt.xlabel('calculatedfinishedsquarefeet')\n",
    "    plt.ylabel('Residual')\n",
    "    plt.title('OLS model residuals');"
   ]
  },
  {
   "cell_type": "code",
   "execution_count": 49,
   "metadata": {},
   "outputs": [
    {
     "data": {
      "image/png": "[encoded data removed]",
      "text/plain": [
       "<Figure size 792x360 with 2 Axes>"
      ]
     },
     "metadata": {
      "needs_background": "light"
     },
     "output_type": "display_data"
    }
   ],
   "source": [
    "plot_residuals(y,yhat)"
   ]
  },
  {
   "cell_type": "markdown",
   "metadata": {},
   "source": [
    "#### Calculate the Sums and errors"
   ]
  },
  {
   "cell_type": "markdown",
   "metadata": {},
   "source": [
    "##### Residuals Squared"
   ]
  },
  {
   "cell_type": "code",
   "execution_count": 18,
   "metadata": {},
   "outputs": [
    {
     "data": {
      "text/html": [
       "<div>\n",
       "<style scoped>\n",
       "    .dataframe tbody tr th:only-of-type {\n",
       "        vertical-align: middle;\n",
       "    }\n",
       "\n",
       "    .dataframe tbody tr th {\n",
       "        vertical-align: top;\n",
       "    }\n",
       "\n",
       "    .dataframe thead th {\n",
       "        text-align: right;\n",
       "    }\n",
       "</style>\n",
       "<table border=\"1\" class=\"dataframe\">\n",
       "  <thead>\n",
       "    <tr style=\"text-align: right;\">\n",
       "      <th></th>\n",
       "      <th>calculatedfinishedsquarefeet</th>\n",
       "      <th>taxvaluedollarcnt</th>\n",
       "      <th>baseline</th>\n",
       "      <th>yhat</th>\n",
       "      <th>residual</th>\n",
       "      <th>baseline_residual</th>\n",
       "      <th>residual^2</th>\n",
       "      <th>baseline_residual^2</th>\n",
       "    </tr>\n",
       "  </thead>\n",
       "  <tbody>\n",
       "    <tr>\n",
       "      <th>421888</th>\n",
       "      <td>1550.0</td>\n",
       "      <td>357034.0</td>\n",
       "      <td>398734.95404</td>\n",
       "      <td>357264.612498</td>\n",
       "      <td>-230.612498</td>\n",
       "      <td>-41700.95404</td>\n",
       "      <td>5.318212e+04</td>\n",
       "      <td>1.738970e+09</td>\n",
       "    </tr>\n",
       "    <tr>\n",
       "      <th>548087</th>\n",
       "      <td>1800.0</td>\n",
       "      <td>287774.0</td>\n",
       "      <td>398734.95404</td>\n",
       "      <td>399104.649483</td>\n",
       "      <td>-111330.649483</td>\n",
       "      <td>-110960.95404</td>\n",
       "      <td>1.239451e+10</td>\n",
       "      <td>1.231233e+10</td>\n",
       "    </tr>\n",
       "    <tr>\n",
       "      <th>714717</th>\n",
       "      <td>1542.0</td>\n",
       "      <td>588738.0</td>\n",
       "      <td>398734.95404</td>\n",
       "      <td>355925.731315</td>\n",
       "      <td>232812.268685</td>\n",
       "      <td>190003.04596</td>\n",
       "      <td>5.420155e+10</td>\n",
       "      <td>3.610116e+10</td>\n",
       "    </tr>\n",
       "    <tr>\n",
       "      <th>749704</th>\n",
       "      <td>1128.0</td>\n",
       "      <td>290984.0</td>\n",
       "      <td>398734.95404</td>\n",
       "      <td>286638.630067</td>\n",
       "      <td>4345.369933</td>\n",
       "      <td>-107750.95404</td>\n",
       "      <td>1.888224e+07</td>\n",
       "      <td>1.161027e+10</td>\n",
       "    </tr>\n",
       "    <tr>\n",
       "      <th>539577</th>\n",
       "      <td>396.0</td>\n",
       "      <td>34541.0</td>\n",
       "      <td>398734.95404</td>\n",
       "      <td>164131.001774</td>\n",
       "      <td>-129590.001774</td>\n",
       "      <td>-364193.95404</td>\n",
       "      <td>1.679357e+10</td>\n",
       "      <td>1.326372e+11</td>\n",
       "    </tr>\n",
       "    <tr>\n",
       "      <th>...</th>\n",
       "      <td>...</td>\n",
       "      <td>...</td>\n",
       "      <td>...</td>\n",
       "      <td>...</td>\n",
       "      <td>...</td>\n",
       "      <td>...</td>\n",
       "      <td>...</td>\n",
       "      <td>...</td>\n",
       "    </tr>\n",
       "    <tr>\n",
       "      <th>83961</th>\n",
       "      <td>2460.0</td>\n",
       "      <td>463327.0</td>\n",
       "      <td>398734.95404</td>\n",
       "      <td>509562.347124</td>\n",
       "      <td>-46235.347124</td>\n",
       "      <td>64592.04596</td>\n",
       "      <td>2.137707e+09</td>\n",
       "      <td>4.172132e+09</td>\n",
       "    </tr>\n",
       "    <tr>\n",
       "      <th>828457</th>\n",
       "      <td>1191.0</td>\n",
       "      <td>517777.0</td>\n",
       "      <td>398734.95404</td>\n",
       "      <td>297182.319387</td>\n",
       "      <td>220594.680613</td>\n",
       "      <td>119042.04596</td>\n",
       "      <td>4.866201e+10</td>\n",
       "      <td>1.417101e+10</td>\n",
       "    </tr>\n",
       "    <tr>\n",
       "      <th>722901</th>\n",
       "      <td>1755.0</td>\n",
       "      <td>478054.0</td>\n",
       "      <td>398734.95404</td>\n",
       "      <td>391573.442826</td>\n",
       "      <td>86480.557174</td>\n",
       "      <td>79319.04596</td>\n",
       "      <td>7.478887e+09</td>\n",
       "      <td>6.291511e+09</td>\n",
       "    </tr>\n",
       "    <tr>\n",
       "      <th>821001</th>\n",
       "      <td>1188.0</td>\n",
       "      <td>72975.0</td>\n",
       "      <td>398734.95404</td>\n",
       "      <td>296680.238943</td>\n",
       "      <td>-223705.238943</td>\n",
       "      <td>-325759.95404</td>\n",
       "      <td>5.004403e+10</td>\n",
       "      <td>1.061195e+11</td>\n",
       "    </tr>\n",
       "    <tr>\n",
       "      <th>1388143</th>\n",
       "      <td>2045.0</td>\n",
       "      <td>224263.0</td>\n",
       "      <td>398734.95404</td>\n",
       "      <td>440107.885729</td>\n",
       "      <td>-215844.885729</td>\n",
       "      <td>-174471.95404</td>\n",
       "      <td>4.658901e+10</td>\n",
       "      <td>3.044046e+10</td>\n",
       "    </tr>\n",
       "  </tbody>\n",
       "</table>\n",
       "<p>1172966 rows × 8 columns</p>\n",
       "</div>"
      ],
      "text/plain": [
       "         calculatedfinishedsquarefeet  taxvaluedollarcnt      baseline  \\\n",
       "421888                         1550.0           357034.0  398734.95404   \n",
       "548087                         1800.0           287774.0  398734.95404   \n",
       "714717                         1542.0           588738.0  398734.95404   \n",
       "749704                         1128.0           290984.0  398734.95404   \n",
       "539577                          396.0            34541.0  398734.95404   \n",
       "...                               ...                ...           ...   \n",
       "83961                          2460.0           463327.0  398734.95404   \n",
       "828457                         1191.0           517777.0  398734.95404   \n",
       "722901                         1755.0           478054.0  398734.95404   \n",
       "821001                         1188.0            72975.0  398734.95404   \n",
       "1388143                        2045.0           224263.0  398734.95404   \n",
       "\n",
       "                  yhat       residual  baseline_residual    residual^2  \\\n",
       "421888   357264.612498    -230.612498       -41700.95404  5.318212e+04   \n",
       "548087   399104.649483 -111330.649483      -110960.95404  1.239451e+10   \n",
       "714717   355925.731315  232812.268685       190003.04596  5.420155e+10   \n",
       "749704   286638.630067    4345.369933      -107750.95404  1.888224e+07   \n",
       "539577   164131.001774 -129590.001774      -364193.95404  1.679357e+10   \n",
       "...                ...            ...                ...           ...   \n",
       "83961    509562.347124  -46235.347124        64592.04596  2.137707e+09   \n",
       "828457   297182.319387  220594.680613       119042.04596  4.866201e+10   \n",
       "722901   391573.442826   86480.557174        79319.04596  7.478887e+09   \n",
       "821001   296680.238943 -223705.238943      -325759.95404  5.004403e+10   \n",
       "1388143  440107.885729 -215844.885729      -174471.95404  4.658901e+10   \n",
       "\n",
       "         baseline_residual^2  \n",
       "421888          1.738970e+09  \n",
       "548087          1.231233e+10  \n",
       "714717          3.610116e+10  \n",
       "749704          1.161027e+10  \n",
       "539577          1.326372e+11  \n",
       "...                      ...  \n",
       "83961           4.172132e+09  \n",
       "828457          1.417101e+10  \n",
       "722901          6.291511e+09  \n",
       "821001          1.061195e+11  \n",
       "1388143         3.044046e+10  \n",
       "\n",
       "[1172966 rows x 8 columns]"
      ]
     },
     "execution_count": 18,
     "metadata": {},
     "output_type": "execute_result"
    }
   ],
   "source": [
    "# Residuals squared\n",
    "\n",
    "z_residuals['residual^2'] = z_residuals.residual**2\n",
    "z_residuals['baseline_residual^2'] = z_residuals.baseline_residual**2\n",
    "\n",
    "z_residuals"
   ]
  },
  {
   "cell_type": "markdown",
   "metadata": {},
   "source": [
    "##### Mean Squared Error"
   ]
  },
  {
   "cell_type": "code",
   "execution_count": 20,
   "metadata": {},
   "outputs": [
    {
     "data": {
      "text/plain": [
       "1172966"
      ]
     },
     "execution_count": 20,
     "metadata": {},
     "output_type": "execute_result"
    }
   ],
   "source": [
    "# shape of z_residuals\n",
    "len(z_residuals)\n",
    "z_residuals.shape[0]"
   ]
  },
  {
   "cell_type": "code",
   "execution_count": 21,
   "metadata": {},
   "outputs": [
    {
     "name": "stdout",
     "output_type": "stream",
     "text": [
      "MSE =  74150885118.4\n",
      "MSE baseline =  98437835105.4\n"
     ]
    }
   ],
   "source": [
    "MSE = SSE/len(z_residuals)\n",
    "MSE_baseline = SSE_baseline/len(z_residuals)\n",
    "\n",
    "print(\"MSE = \", \"{:.1f}\".format(MSE))\n",
    "print(\"MSE baseline = \", \"{:.1f}\".format(MSE_baseline))"
   ]
  },
  {
   "cell_type": "markdown",
   "metadata": {},
   "source": [
    "##### RMSE (Root Mean Squared Error)"
   ]
  },
  {
   "cell_type": "code",
   "execution_count": 22,
   "metadata": {},
   "outputs": [
    {
     "name": "stdout",
     "output_type": "stream",
     "text": [
      "RMSE =  272306.6\n",
      "RMSE baseline =  313748.0\n"
     ]
    }
   ],
   "source": [
    "from math import sqrt\n",
    "RMSE = sqrt(MSE)\n",
    "RMSE_baseline =  sqrt(MSE_baseline)\n",
    "\n",
    "\n",
    "print(\"RMSE = \", \"{:.1f}\".format(RMSE))\n",
    "print(\"RMSE baseline = \", \"{:.1f}\".format(RMSE_baseline))"
   ]
  },
  {
   "cell_type": "markdown",
   "metadata": {},
   "source": [
    "##### Explained Sum of Squares\n",
    "ESS = sum((df.yhat - df.y.mean())**2)\n"
   ]
  },
  {
   "cell_type": "code",
   "execution_count": 23,
   "metadata": {},
   "outputs": [
    {
     "data": {
      "text/plain": [
       "2.84877665784071e+16"
      ]
     },
     "execution_count": 23,
     "metadata": {},
     "output_type": "execute_result"
    }
   ],
   "source": [
    "# compute explained sum of squares\n",
    "ESS = sum((z_residuals.yhat - z_residuals.taxvaluedollarcnt.mean())**2)\n",
    "\n",
    "ESS\n"
   ]
  },
  {
   "cell_type": "markdown",
   "metadata": {},
   "source": [
    "##### Total Sum of Squares (TSS)"
   ]
  },
  {
   "cell_type": "code",
   "execution_count": 24,
   "metadata": {},
   "outputs": [
    {
     "data": {
      "text/plain": [
       "1.1546423369221109e+17"
      ]
     },
     "execution_count": 24,
     "metadata": {},
     "output_type": "execute_result"
    }
   ],
   "source": [
    "TSS = ESS + SSE\n",
    "\n",
    "TSS"
   ]
  },
  {
   "cell_type": "markdown",
   "metadata": {},
   "source": [
    "##### Code that compares the sum of squared errors of model against the sum of squared errors for the baseline model and outputs whether or not your model performs better than the baseline model."
   ]
  },
  {
   "cell_type": "code",
   "execution_count": 25,
   "metadata": {},
   "outputs": [
    {
     "name": "stdout",
     "output_type": "stream",
     "text": [
      "SSE = 86976467113803984.0\n",
      "SSE Baseline = 115464233692208544.0\n"
     ]
    }
   ],
   "source": [
    "SSE = z_residuals['residual^2'].sum()\n",
    "SSE_baseline = z_residuals['baseline_residual^2'].sum()\n",
    "\n",
    "print('SSE =', \"{:.1f}\".format(SSE))\n",
    "print(\"SSE Baseline =\", \"{:.1f}\".format(SSE_baseline))"
   ]
  },
  {
   "cell_type": "code",
   "execution_count": 30,
   "metadata": {},
   "outputs": [
    {
     "data": {
      "text/plain": [
       "True"
      ]
     },
     "execution_count": 30,
     "metadata": {},
     "output_type": "execute_result"
    }
   ],
   "source": [
    "# Is the model SSE less than the baseline SSE. If so the model performs better.\n",
    "SSE  < SSE_baseline"
   ]
  },
  {
   "cell_type": "code",
   "execution_count": null,
   "metadata": {},
   "outputs": [],
   "source": [
    "\n",
    "TSS = ESS + SSE\n",
    "print(\"ESS = \", ESS)\n",
    "print(\"SSE = \", SSE[0])\n",
    "print(\"TSS = \", TSS[0])\n"
   ]
  },
  {
   "cell_type": "markdown",
   "metadata": {},
   "source": [
    "##### What is the amount of variance explained in your model?"
   ]
  },
  {
   "cell_type": "code",
   "execution_count": 29,
   "metadata": {},
   "outputs": [
    {
     "name": "stdout",
     "output_type": "stream",
     "text": [
      "Explained Variance =  0.247\n"
     ]
    }
   ],
   "source": [
    "# sklearn.metrics.explained_variance_score\n",
    "\n",
    "evs = explained_variance_score(z_residuals.taxvaluedollarcnt, z_residuals.yhat)\n",
    "print('Explained Variance = ', round(evs,3))\n"
   ]
  },
  {
   "cell_type": "markdown",
   "metadata": {},
   "source": [
    "##### Create evaluate.py \n",
    "\n",
    "- plot_residuals(y, yhat): creates a residual plot\n",
    "\n",
    "- regression_errors(y, yhat): returns the following values:\n",
    "-           sum of squared errors (SSE)\n",
    "-           explained sum of squares (ESS)\n",
    "-           total sum of squares (TSS)\n",
    "-           mean squared error (MSE)\n",
    "-           root mean squared error (RMSE)\n",
    "\n",
    "- baseline_mean_errors(y): computes the SSE, MSE, and RMSE for the baseline model\n",
    "\n",
    "- better_than_baseline(y, yhat): returns true if your model performs better than the baseline, otherwise false"
   ]
  },
  {
   "cell_type": "code",
   "execution_count": 50,
   "metadata": {},
   "outputs": [
    {
     "data": {
      "text/html": [
       "<div>\n",
       "<style scoped>\n",
       "    .dataframe tbody tr th:only-of-type {\n",
       "        vertical-align: middle;\n",
       "    }\n",
       "\n",
       "    .dataframe tbody tr th {\n",
       "        vertical-align: top;\n",
       "    }\n",
       "\n",
       "    .dataframe thead th {\n",
       "        text-align: right;\n",
       "    }\n",
       "</style>\n",
       "<table border=\"1\" class=\"dataframe\">\n",
       "  <thead>\n",
       "    <tr style=\"text-align: right;\">\n",
       "      <th></th>\n",
       "      <th>bedroomcnt</th>\n",
       "      <th>bathroomcnt</th>\n",
       "      <th>calculatedfinishedsquarefeet</th>\n",
       "      <th>taxvaluedollarcnt</th>\n",
       "      <th>yearbuilt</th>\n",
       "      <th>taxamount</th>\n",
       "      <th>fips</th>\n",
       "      <th>baseline</th>\n",
       "      <th>yhat</th>\n",
       "    </tr>\n",
       "  </thead>\n",
       "  <tbody>\n",
       "    <tr>\n",
       "      <th>421888</th>\n",
       "      <td>3</td>\n",
       "      <td>2.0</td>\n",
       "      <td>1550.0</td>\n",
       "      <td>357034.0</td>\n",
       "      <td>1961</td>\n",
       "      <td>4418.72</td>\n",
       "      <td>6037</td>\n",
       "      <td>398734.95404</td>\n",
       "      <td>357264.612498</td>\n",
       "    </tr>\n",
       "    <tr>\n",
       "      <th>548087</th>\n",
       "      <td>3</td>\n",
       "      <td>3.5</td>\n",
       "      <td>1800.0</td>\n",
       "      <td>287774.0</td>\n",
       "      <td>1996</td>\n",
       "      <td>2798.18</td>\n",
       "      <td>6059</td>\n",
       "      <td>398734.95404</td>\n",
       "      <td>399104.649483</td>\n",
       "    </tr>\n",
       "    <tr>\n",
       "      <th>714717</th>\n",
       "      <td>3</td>\n",
       "      <td>2.0</td>\n",
       "      <td>1542.0</td>\n",
       "      <td>588738.0</td>\n",
       "      <td>1923</td>\n",
       "      <td>7210.51</td>\n",
       "      <td>6037</td>\n",
       "      <td>398734.95404</td>\n",
       "      <td>355925.731315</td>\n",
       "    </tr>\n",
       "    <tr>\n",
       "      <th>749704</th>\n",
       "      <td>3</td>\n",
       "      <td>1.0</td>\n",
       "      <td>1128.0</td>\n",
       "      <td>290984.0</td>\n",
       "      <td>1952</td>\n",
       "      <td>3622.02</td>\n",
       "      <td>6037</td>\n",
       "      <td>398734.95404</td>\n",
       "      <td>286638.630067</td>\n",
       "    </tr>\n",
       "    <tr>\n",
       "      <th>539577</th>\n",
       "      <td>0</td>\n",
       "      <td>1.0</td>\n",
       "      <td>396.0</td>\n",
       "      <td>34541.0</td>\n",
       "      <td>1942</td>\n",
       "      <td>579.61</td>\n",
       "      <td>6037</td>\n",
       "      <td>398734.95404</td>\n",
       "      <td>164131.001774</td>\n",
       "    </tr>\n",
       "  </tbody>\n",
       "</table>\n",
       "</div>"
      ],
      "text/plain": [
       "        bedroomcnt  bathroomcnt  calculatedfinishedsquarefeet  \\\n",
       "421888           3          2.0                        1550.0   \n",
       "548087           3          3.5                        1800.0   \n",
       "714717           3          2.0                        1542.0   \n",
       "749704           3          1.0                        1128.0   \n",
       "539577           0          1.0                         396.0   \n",
       "\n",
       "        taxvaluedollarcnt  yearbuilt  taxamount  fips      baseline  \\\n",
       "421888           357034.0       1961    4418.72  6037  398734.95404   \n",
       "548087           287774.0       1996    2798.18  6059  398734.95404   \n",
       "714717           588738.0       1923    7210.51  6037  398734.95404   \n",
       "749704           290984.0       1952    3622.02  6037  398734.95404   \n",
       "539577            34541.0       1942     579.61  6037  398734.95404   \n",
       "\n",
       "                 yhat  \n",
       "421888  357264.612498  \n",
       "548087  399104.649483  \n",
       "714717  355925.731315  \n",
       "749704  286638.630067  \n",
       "539577  164131.001774  "
      ]
     },
     "execution_count": 50,
     "metadata": {},
     "output_type": "execute_result"
    }
   ],
   "source": [
    "zillow_train.head()"
   ]
  },
  {
   "cell_type": "code",
   "execution_count": null,
   "metadata": {},
   "outputs": [],
   "source": []
  }
 ],
 "metadata": {
  "kernelspec": {
   "display_name": "Python 3.9.12 ('base')",
   "language": "python",
   "name": "python3"
  },
  "language_info": {
   "codemirror_mode": {
    "name": "ipython",
    "version": 3
   },
   "file_extension": ".py",
   "mimetype": "text/x-python",
   "name": "python",
   "nbconvert_exporter": "python",
   "pygments_lexer": "ipython3",
   "version": "3.9.12"
  },
  "orig_nbformat": 4,
  "vscode": {
   "interpreter": {
    "hash": "3067ead486e059ec00ffe7555bdb889e6e264a24dc711bf108106cc7baee8d5d"
   }
  }
 },
 "nbformat": 4,
 "nbformat_minor": 2
}
