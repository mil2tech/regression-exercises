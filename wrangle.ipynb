{
 "cells": [
  {
   "cell_type": "markdown",
   "metadata": {},
   "source": [
    "In these exercises, you will complete the first step toward the above goal: acquire and prepare the necessary Zillow data from the zillow database in the Codeup database server.\n",
    "\n",
    "1. Acquire `bedroomcnt`, `bathroomcnt`, `calculatedfinishedsquarefeet`, `taxvaluedollarcnt`, `yearbuilt`, `taxamount`, and `fips` from the `zillow` database for all 'Single Family Residential' properties.\n",
    "1. Using your acquired Zillow data, walk through the summarization and cleaning steps in your `wrangle.ipynb` file like we did above. You may handle the missing values however you feel is appropriate and meaninful; remember to document your process and decisions using markdown and code commenting where helpful.\n",
    "1. Store all of the necessary functions to automate your process from acquiring the data to returning a cleaned dataframe witn no missing values in your `wrangle.py` file. Name your final function `wrangle_zillow`."
   ]
  },
  {
   "cell_type": "code",
   "execution_count": 1,
   "metadata": {},
   "outputs": [],
   "source": [
    "# Importing libraies into notebook\n",
    "\n",
    "import pandas as pd\n",
    "import numpy as np\n",
    "import os\n",
    "import seaborn as sns\n"
   ]
  },
  {
   "cell_type": "code",
   "execution_count": 2,
   "metadata": {},
   "outputs": [],
   "source": [
    "# importing py files into notebook\n",
    "import env\n",
    "from env import host, user, password\n",
    "from env import get_db_url\n"
   ]
  },
  {
   "cell_type": "code",
   "execution_count": 3,
   "metadata": {},
   "outputs": [],
   "source": [
    "sql_query = \"\"\"\n",
    "                SELECT bedroomcnt, bathroomcnt, calculatedfinishedsquarefeet, taxvaluedollarcnt, yearbuilt, taxamount, fips\n",
    "                from properties_2017\n",
    "                join propertylandusetype using (propertylandusetypeid)\n",
    "                join  architecturalstyletype using (architecturalstyletypeid)\n",
    "                where\tpropertylandusetypeid = '261'\n",
    "            \"\"\""
   ]
  },
  {
   "cell_type": "code",
   "execution_count": 27,
   "metadata": {},
   "outputs": [],
   "source": [
    " # Read in DataFrame from Codeup db.\n",
    "df = pd.read_sql(sql_query, get_db_url('zillow'))"
   ]
  },
  {
   "cell_type": "code",
   "execution_count": 28,
   "metadata": {},
   "outputs": [
    {
     "data": {
      "text/html": [
       "<div>\n",
       "<style scoped>\n",
       "    .dataframe tbody tr th:only-of-type {\n",
       "        vertical-align: middle;\n",
       "    }\n",
       "\n",
       "    .dataframe tbody tr th {\n",
       "        vertical-align: top;\n",
       "    }\n",
       "\n",
       "    .dataframe thead th {\n",
       "        text-align: right;\n",
       "    }\n",
       "</style>\n",
       "<table border=\"1\" class=\"dataframe\">\n",
       "  <thead>\n",
       "    <tr style=\"text-align: right;\">\n",
       "      <th></th>\n",
       "      <th>bedroomcnt</th>\n",
       "      <th>bathroomcnt</th>\n",
       "      <th>calculatedfinishedsquarefeet</th>\n",
       "      <th>taxvaluedollarcnt</th>\n",
       "      <th>yearbuilt</th>\n",
       "      <th>taxamount</th>\n",
       "      <th>fips</th>\n",
       "    </tr>\n",
       "  </thead>\n",
       "  <tbody>\n",
       "    <tr>\n",
       "      <th>0</th>\n",
       "      <td>2.0</td>\n",
       "      <td>2.0</td>\n",
       "      <td>1181.0</td>\n",
       "      <td>294408.0</td>\n",
       "      <td>1978.0</td>\n",
       "      <td>3471.94</td>\n",
       "      <td>6059.0</td>\n",
       "    </tr>\n",
       "    <tr>\n",
       "      <th>1</th>\n",
       "      <td>4.0</td>\n",
       "      <td>4.0</td>\n",
       "      <td>2686.0</td>\n",
       "      <td>336887.0</td>\n",
       "      <td>1977.0</td>\n",
       "      <td>3935.44</td>\n",
       "      <td>6059.0</td>\n",
       "    </tr>\n",
       "    <tr>\n",
       "      <th>2</th>\n",
       "      <td>4.0</td>\n",
       "      <td>2.0</td>\n",
       "      <td>1348.0</td>\n",
       "      <td>184764.0</td>\n",
       "      <td>1964.0</td>\n",
       "      <td>2363.48</td>\n",
       "      <td>6059.0</td>\n",
       "    </tr>\n",
       "    <tr>\n",
       "      <th>3</th>\n",
       "      <td>3.0</td>\n",
       "      <td>1.5</td>\n",
       "      <td>1122.0</td>\n",
       "      <td>342293.0</td>\n",
       "      <td>1963.0</td>\n",
       "      <td>4025.66</td>\n",
       "      <td>6059.0</td>\n",
       "    </tr>\n",
       "    <tr>\n",
       "      <th>4</th>\n",
       "      <td>3.0</td>\n",
       "      <td>2.0</td>\n",
       "      <td>1357.0</td>\n",
       "      <td>79871.0</td>\n",
       "      <td>1974.0</td>\n",
       "      <td>1532.64</td>\n",
       "      <td>6059.0</td>\n",
       "    </tr>\n",
       "  </tbody>\n",
       "</table>\n",
       "</div>"
      ],
      "text/plain": [
       "   bedroomcnt  bathroomcnt  calculatedfinishedsquarefeet  taxvaluedollarcnt  \\\n",
       "0         2.0          2.0                        1181.0           294408.0   \n",
       "1         4.0          4.0                        2686.0           336887.0   \n",
       "2         4.0          2.0                        1348.0           184764.0   \n",
       "3         3.0          1.5                        1122.0           342293.0   \n",
       "4         3.0          2.0                        1357.0            79871.0   \n",
       "\n",
       "   yearbuilt  taxamount    fips  \n",
       "0     1978.0    3471.94  6059.0  \n",
       "1     1977.0    3935.44  6059.0  \n",
       "2     1964.0    2363.48  6059.0  \n",
       "3     1963.0    4025.66  6059.0  \n",
       "4     1974.0    1532.64  6059.0  "
      ]
     },
     "execution_count": 28,
     "metadata": {},
     "output_type": "execute_result"
    }
   ],
   "source": [
    "df.head()"
   ]
  },
  {
   "cell_type": "code",
   "execution_count": 14,
   "metadata": {},
   "outputs": [
    {
     "name": "stdout",
     "output_type": "stream",
     "text": [
      "<class 'pandas.core.frame.DataFrame'>\n",
      "RangeIndex: 2393 entries, 0 to 2392\n",
      "Data columns (total 7 columns):\n",
      " #   Column                        Non-Null Count  Dtype  \n",
      "---  ------                        --------------  -----  \n",
      " 0   bedroomcnt                    2393 non-null   float64\n",
      " 1   bathroomcnt                   2393 non-null   float64\n",
      " 2   calculatedfinishedsquarefeet  2393 non-null   float64\n",
      " 3   taxvaluedollarcnt             2393 non-null   float64\n",
      " 4   yearbuilt                     2393 non-null   float64\n",
      " 5   taxamount                     2393 non-null   float64\n",
      " 6   fips                          2393 non-null   float64\n",
      "dtypes: float64(7)\n",
      "memory usage: 131.0 KB\n"
     ]
    }
   ],
   "source": [
    "df.info()"
   ]
  },
  {
   "cell_type": "markdown",
   "metadata": {},
   "source": [
    "**Takeaways**\n",
    "- no null values\n",
    "- convert columns `fips`, `bedroomcnt` and `yearbuilt` into int64. they are whole values"
   ]
  },
  {
   "cell_type": "code",
   "execution_count": 10,
   "metadata": {},
   "outputs": [],
   "source": [
    "df = df.astype({'fips': 'int64', 'yearbuilt': 'int64', 'bedroomcnt': 'int64'})"
   ]
  },
  {
   "cell_type": "code",
   "execution_count": 11,
   "metadata": {},
   "outputs": [
    {
     "data": {
      "text/html": [
       "<div>\n",
       "<style scoped>\n",
       "    .dataframe tbody tr th:only-of-type {\n",
       "        vertical-align: middle;\n",
       "    }\n",
       "\n",
       "    .dataframe tbody tr th {\n",
       "        vertical-align: top;\n",
       "    }\n",
       "\n",
       "    .dataframe thead th {\n",
       "        text-align: right;\n",
       "    }\n",
       "</style>\n",
       "<table border=\"1\" class=\"dataframe\">\n",
       "  <thead>\n",
       "    <tr style=\"text-align: right;\">\n",
       "      <th></th>\n",
       "      <th>bedroomcnt</th>\n",
       "      <th>bathroomcnt</th>\n",
       "      <th>calculatedfinishedsquarefeet</th>\n",
       "      <th>taxvaluedollarcnt</th>\n",
       "      <th>yearbuilt</th>\n",
       "      <th>taxamount</th>\n",
       "      <th>fips</th>\n",
       "    </tr>\n",
       "  </thead>\n",
       "  <tbody>\n",
       "    <tr>\n",
       "      <th>0</th>\n",
       "      <td>2</td>\n",
       "      <td>2.0</td>\n",
       "      <td>1181.0</td>\n",
       "      <td>294408.0</td>\n",
       "      <td>1978</td>\n",
       "      <td>3471.94</td>\n",
       "      <td>6059</td>\n",
       "    </tr>\n",
       "    <tr>\n",
       "      <th>1</th>\n",
       "      <td>4</td>\n",
       "      <td>4.0</td>\n",
       "      <td>2686.0</td>\n",
       "      <td>336887.0</td>\n",
       "      <td>1977</td>\n",
       "      <td>3935.44</td>\n",
       "      <td>6059</td>\n",
       "    </tr>\n",
       "    <tr>\n",
       "      <th>2</th>\n",
       "      <td>4</td>\n",
       "      <td>2.0</td>\n",
       "      <td>1348.0</td>\n",
       "      <td>184764.0</td>\n",
       "      <td>1964</td>\n",
       "      <td>2363.48</td>\n",
       "      <td>6059</td>\n",
       "    </tr>\n",
       "    <tr>\n",
       "      <th>3</th>\n",
       "      <td>3</td>\n",
       "      <td>1.5</td>\n",
       "      <td>1122.0</td>\n",
       "      <td>342293.0</td>\n",
       "      <td>1963</td>\n",
       "      <td>4025.66</td>\n",
       "      <td>6059</td>\n",
       "    </tr>\n",
       "    <tr>\n",
       "      <th>4</th>\n",
       "      <td>3</td>\n",
       "      <td>2.0</td>\n",
       "      <td>1357.0</td>\n",
       "      <td>79871.0</td>\n",
       "      <td>1974</td>\n",
       "      <td>1532.64</td>\n",
       "      <td>6059</td>\n",
       "    </tr>\n",
       "  </tbody>\n",
       "</table>\n",
       "</div>"
      ],
      "text/plain": [
       "   bedroomcnt  bathroomcnt  calculatedfinishedsquarefeet  taxvaluedollarcnt  \\\n",
       "0           2          2.0                        1181.0           294408.0   \n",
       "1           4          4.0                        2686.0           336887.0   \n",
       "2           4          2.0                        1348.0           184764.0   \n",
       "3           3          1.5                        1122.0           342293.0   \n",
       "4           3          2.0                        1357.0            79871.0   \n",
       "\n",
       "   yearbuilt  taxamount  fips  \n",
       "0       1978    3471.94  6059  \n",
       "1       1977    3935.44  6059  \n",
       "2       1964    2363.48  6059  \n",
       "3       1963    4025.66  6059  \n",
       "4       1974    1532.64  6059  "
      ]
     },
     "execution_count": 11,
     "metadata": {},
     "output_type": "execute_result"
    }
   ],
   "source": [
    "df.head()"
   ]
  },
  {
   "cell_type": "code",
   "execution_count": 12,
   "metadata": {},
   "outputs": [
    {
     "name": "stdout",
     "output_type": "stream",
     "text": [
      "<class 'pandas.core.frame.DataFrame'>\n",
      "RangeIndex: 2393 entries, 0 to 2392\n",
      "Data columns (total 7 columns):\n",
      " #   Column                        Non-Null Count  Dtype  \n",
      "---  ------                        --------------  -----  \n",
      " 0   bedroomcnt                    2393 non-null   int64  \n",
      " 1   bathroomcnt                   2393 non-null   float64\n",
      " 2   calculatedfinishedsquarefeet  2393 non-null   float64\n",
      " 3   taxvaluedollarcnt             2393 non-null   float64\n",
      " 4   yearbuilt                     2393 non-null   int64  \n",
      " 5   taxamount                     2393 non-null   float64\n",
      " 6   fips                          2393 non-null   int64  \n",
      "dtypes: float64(4), int64(3)\n",
      "memory usage: 131.0 KB\n"
     ]
    }
   ],
   "source": [
    "df.info()"
   ]
  },
  {
   "cell_type": "code",
   "execution_count": 14,
   "metadata": {},
   "outputs": [],
   "source": [
    "from wrangle import wrangle_zillow"
   ]
  },
  {
   "cell_type": "code",
   "execution_count": 15,
   "metadata": {},
   "outputs": [
    {
     "data": {
      "text/html": [
       "<div>\n",
       "<style scoped>\n",
       "    .dataframe tbody tr th:only-of-type {\n",
       "        vertical-align: middle;\n",
       "    }\n",
       "\n",
       "    .dataframe tbody tr th {\n",
       "        vertical-align: top;\n",
       "    }\n",
       "\n",
       "    .dataframe thead th {\n",
       "        text-align: right;\n",
       "    }\n",
       "</style>\n",
       "<table border=\"1\" class=\"dataframe\">\n",
       "  <thead>\n",
       "    <tr style=\"text-align: right;\">\n",
       "      <th></th>\n",
       "      <th>bedroomcnt</th>\n",
       "      <th>bathroomcnt</th>\n",
       "      <th>calculatedfinishedsquarefeet</th>\n",
       "      <th>taxvaluedollarcnt</th>\n",
       "      <th>yearbuilt</th>\n",
       "      <th>taxamount</th>\n",
       "      <th>fips</th>\n",
       "    </tr>\n",
       "  </thead>\n",
       "  <tbody>\n",
       "    <tr>\n",
       "      <th>0</th>\n",
       "      <td>2</td>\n",
       "      <td>2.0</td>\n",
       "      <td>1181.0</td>\n",
       "      <td>294408.0</td>\n",
       "      <td>1978</td>\n",
       "      <td>3471.94</td>\n",
       "      <td>6059</td>\n",
       "    </tr>\n",
       "    <tr>\n",
       "      <th>1</th>\n",
       "      <td>4</td>\n",
       "      <td>4.0</td>\n",
       "      <td>2686.0</td>\n",
       "      <td>336887.0</td>\n",
       "      <td>1977</td>\n",
       "      <td>3935.44</td>\n",
       "      <td>6059</td>\n",
       "    </tr>\n",
       "    <tr>\n",
       "      <th>2</th>\n",
       "      <td>4</td>\n",
       "      <td>2.0</td>\n",
       "      <td>1348.0</td>\n",
       "      <td>184764.0</td>\n",
       "      <td>1964</td>\n",
       "      <td>2363.48</td>\n",
       "      <td>6059</td>\n",
       "    </tr>\n",
       "    <tr>\n",
       "      <th>3</th>\n",
       "      <td>3</td>\n",
       "      <td>1.5</td>\n",
       "      <td>1122.0</td>\n",
       "      <td>342293.0</td>\n",
       "      <td>1963</td>\n",
       "      <td>4025.66</td>\n",
       "      <td>6059</td>\n",
       "    </tr>\n",
       "    <tr>\n",
       "      <th>4</th>\n",
       "      <td>3</td>\n",
       "      <td>2.0</td>\n",
       "      <td>1357.0</td>\n",
       "      <td>79871.0</td>\n",
       "      <td>1974</td>\n",
       "      <td>1532.64</td>\n",
       "      <td>6059</td>\n",
       "    </tr>\n",
       "    <tr>\n",
       "      <th>...</th>\n",
       "      <td>...</td>\n",
       "      <td>...</td>\n",
       "      <td>...</td>\n",
       "      <td>...</td>\n",
       "      <td>...</td>\n",
       "      <td>...</td>\n",
       "      <td>...</td>\n",
       "    </tr>\n",
       "    <tr>\n",
       "      <th>2388</th>\n",
       "      <td>2</td>\n",
       "      <td>1.5</td>\n",
       "      <td>960.0</td>\n",
       "      <td>194173.0</td>\n",
       "      <td>1964</td>\n",
       "      <td>2484.70</td>\n",
       "      <td>6059</td>\n",
       "    </tr>\n",
       "    <tr>\n",
       "      <th>2389</th>\n",
       "      <td>3</td>\n",
       "      <td>2.5</td>\n",
       "      <td>1302.0</td>\n",
       "      <td>114409.0</td>\n",
       "      <td>1973</td>\n",
       "      <td>1641.66</td>\n",
       "      <td>6059</td>\n",
       "    </tr>\n",
       "    <tr>\n",
       "      <th>2390</th>\n",
       "      <td>2</td>\n",
       "      <td>1.5</td>\n",
       "      <td>1366.0</td>\n",
       "      <td>299498.0</td>\n",
       "      <td>1977</td>\n",
       "      <td>3180.40</td>\n",
       "      <td>6059</td>\n",
       "    </tr>\n",
       "    <tr>\n",
       "      <th>2391</th>\n",
       "      <td>4</td>\n",
       "      <td>2.0</td>\n",
       "      <td>1428.0</td>\n",
       "      <td>218677.0</td>\n",
       "      <td>1972</td>\n",
       "      <td>2236.38</td>\n",
       "      <td>6059</td>\n",
       "    </tr>\n",
       "    <tr>\n",
       "      <th>2392</th>\n",
       "      <td>3</td>\n",
       "      <td>2.5</td>\n",
       "      <td>1651.0</td>\n",
       "      <td>156610.0</td>\n",
       "      <td>1977</td>\n",
       "      <td>1965.02</td>\n",
       "      <td>6059</td>\n",
       "    </tr>\n",
       "  </tbody>\n",
       "</table>\n",
       "<p>2393 rows × 7 columns</p>\n",
       "</div>"
      ],
      "text/plain": [
       "      bedroomcnt  bathroomcnt  calculatedfinishedsquarefeet  \\\n",
       "0              2          2.0                        1181.0   \n",
       "1              4          4.0                        2686.0   \n",
       "2              4          2.0                        1348.0   \n",
       "3              3          1.5                        1122.0   \n",
       "4              3          2.0                        1357.0   \n",
       "...          ...          ...                           ...   \n",
       "2388           2          1.5                         960.0   \n",
       "2389           3          2.5                        1302.0   \n",
       "2390           2          1.5                        1366.0   \n",
       "2391           4          2.0                        1428.0   \n",
       "2392           3          2.5                        1651.0   \n",
       "\n",
       "      taxvaluedollarcnt  yearbuilt  taxamount  fips  \n",
       "0              294408.0       1978    3471.94  6059  \n",
       "1              336887.0       1977    3935.44  6059  \n",
       "2              184764.0       1964    2363.48  6059  \n",
       "3              342293.0       1963    4025.66  6059  \n",
       "4               79871.0       1974    1532.64  6059  \n",
       "...                 ...        ...        ...   ...  \n",
       "2388           194173.0       1964    2484.70  6059  \n",
       "2389           114409.0       1973    1641.66  6059  \n",
       "2390           299498.0       1977    3180.40  6059  \n",
       "2391           218677.0       1972    2236.38  6059  \n",
       "2392           156610.0       1977    1965.02  6059  \n",
       "\n",
       "[2393 rows x 7 columns]"
      ]
     },
     "execution_count": 15,
     "metadata": {},
     "output_type": "execute_result"
    }
   ],
   "source": [
    "df"
   ]
  },
  {
   "cell_type": "code",
   "execution_count": 26,
   "metadata": {},
   "outputs": [
    {
     "data": {
      "text/html": [
       "<div>\n",
       "<style scoped>\n",
       "    .dataframe tbody tr th:only-of-type {\n",
       "        vertical-align: middle;\n",
       "    }\n",
       "\n",
       "    .dataframe tbody tr th {\n",
       "        vertical-align: top;\n",
       "    }\n",
       "\n",
       "    .dataframe thead th {\n",
       "        text-align: right;\n",
       "    }\n",
       "</style>\n",
       "<table border=\"1\" class=\"dataframe\">\n",
       "  <thead>\n",
       "    <tr style=\"text-align: right;\">\n",
       "      <th></th>\n",
       "      <th>bedroomcnt</th>\n",
       "      <th>bathroomcnt</th>\n",
       "      <th>calculatedfinishedsquarefeet</th>\n",
       "      <th>taxvaluedollarcnt</th>\n",
       "      <th>yearbuilt</th>\n",
       "      <th>taxamount</th>\n",
       "      <th>fips</th>\n",
       "    </tr>\n",
       "  </thead>\n",
       "  <tbody>\n",
       "    <tr>\n",
       "      <th>0</th>\n",
       "      <td>2.0</td>\n",
       "      <td>2.0</td>\n",
       "      <td>1181.0</td>\n",
       "      <td>294408.0</td>\n",
       "      <td>1978.0</td>\n",
       "      <td>3471.94</td>\n",
       "      <td>6059.0</td>\n",
       "    </tr>\n",
       "    <tr>\n",
       "      <th>1</th>\n",
       "      <td>4.0</td>\n",
       "      <td>4.0</td>\n",
       "      <td>2686.0</td>\n",
       "      <td>336887.0</td>\n",
       "      <td>1977.0</td>\n",
       "      <td>3935.44</td>\n",
       "      <td>6059.0</td>\n",
       "    </tr>\n",
       "  </tbody>\n",
       "</table>\n",
       "</div>"
      ],
      "text/plain": [
       "   bedroomcnt  bathroomcnt  calculatedfinishedsquarefeet  taxvaluedollarcnt  \\\n",
       "0         2.0          2.0                        1181.0           294408.0   \n",
       "1         4.0          4.0                        2686.0           336887.0   \n",
       "\n",
       "   yearbuilt  taxamount    fips  \n",
       "0     1978.0    3471.94  6059.0  \n",
       "1     1977.0    3935.44  6059.0  "
      ]
     },
     "execution_count": 26,
     "metadata": {},
     "output_type": "execute_result"
    }
   ],
   "source": [
    "# testing acquiring raw data function\n",
    "tc = wrangle.new_familyhome_data()\n",
    "tc.head(2)"
   ]
  },
  {
   "cell_type": "code",
   "execution_count": 29,
   "metadata": {},
   "outputs": [
    {
     "data": {
      "text/plain": [
       "<AxesSubplot:>"
      ]
     },
     "execution_count": 29,
     "metadata": {},
     "output_type": "execute_result"
    },
    {
     "data": {
      "image/png": "[encoded data removed]",
      "text/plain": [
       "<Figure size 432x288 with 1 Axes>"
      ]
     },
     "metadata": {
      "needs_background": "light"
     },
     "output_type": "display_data"
    }
   ],
   "source": [
    "df.bedroomcnt.hist()"
   ]
  },
  {
   "cell_type": "code",
   "execution_count": 30,
   "metadata": {},
   "outputs": [
    {
     "data": {
      "text/plain": [
       "<AxesSubplot:>"
      ]
     },
     "execution_count": 30,
     "metadata": {},
     "output_type": "execute_result"
    },
    {
     "data": {
      "image/png": "[encoded data removed]",
      "text/plain": [
       "<Figure size 432x288 with 1 Axes>"
      ]
     },
     "metadata": {
      "needs_background": "light"
     },
     "output_type": "display_data"
    }
   ],
   "source": [
    "df.yearbuilt.hist()"
   ]
  },
  {
   "cell_type": "code",
   "execution_count": 31,
   "metadata": {},
   "outputs": [
    {
     "data": {
      "text/plain": [
       "<AxesSubplot:>"
      ]
     },
     "execution_count": 31,
     "metadata": {},
     "output_type": "execute_result"
    },
    {
     "data": {
      "image/png": "[encoded data removed]",
      "text/plain": [
       "<Figure size 432x288 with 1 Axes>"
      ]
     },
     "metadata": {
      "needs_background": "light"
     },
     "output_type": "display_data"
    }
   ],
   "source": [
    "df.fips.hist()"
   ]
  },
  {
   "cell_type": "code",
   "execution_count": 32,
   "metadata": {},
   "outputs": [
    {
     "data": {
      "text/plain": [
       "<AxesSubplot:>"
      ]
     },
     "execution_count": 32,
     "metadata": {},
     "output_type": "execute_result"
    },
    {
     "data": {
      "image/png": "[encoded data removed]",
      "text/plain": [
       "<Figure size 432x288 with 1 Axes>"
      ]
     },
     "metadata": {
      "needs_background": "light"
     },
     "output_type": "display_data"
    }
   ],
   "source": [
    "df.taxvaluedollarcnt.hist()"
   ]
  },
  {
   "cell_type": "code",
   "execution_count": 34,
   "metadata": {},
   "outputs": [
    {
     "data": {
      "text/plain": [
       "1375    3016.0\n",
       "1983    2838.0\n",
       "656     2775.0\n",
       "1712    2694.0\n",
       "2177    2692.0\n",
       "         ...  \n",
       "1231     550.0\n",
       "676      550.0\n",
       "1379     550.0\n",
       "762      550.0\n",
       "2086     550.0\n",
       "Name: calculatedfinishedsquarefeet, Length: 2393, dtype: float64"
      ]
     },
     "execution_count": 34,
     "metadata": {},
     "output_type": "execute_result"
    }
   ],
   "source": [
    "df.calculatedfinishedsquarefeet.sort_values(ascending=False)"
   ]
  },
  {
   "cell_type": "code",
   "execution_count": 35,
   "metadata": {},
   "outputs": [
    {
     "data": {
      "text/plain": [
       "3.0    1163\n",
       "2.0     840\n",
       "4.0     271\n",
       "1.0     103\n",
       "5.0      14\n",
       "6.0       2\n",
       "Name: bedroomcnt, dtype: int64"
      ]
     },
     "execution_count": 35,
     "metadata": {},
     "output_type": "execute_result"
    }
   ],
   "source": [
    "df.bedroomcnt.value_counts()"
   ]
  },
  {
   "cell_type": "code",
   "execution_count": 36,
   "metadata": {},
   "outputs": [
    {
     "data": {
      "text/plain": [
       "2.5    809\n",
       "2.0    762\n",
       "1.5    518\n",
       "1.0    180\n",
       "3.0    101\n",
       "3.5     20\n",
       "4.0      3\n",
       "Name: bathroomcnt, dtype: int64"
      ]
     },
     "execution_count": 36,
     "metadata": {},
     "output_type": "execute_result"
    }
   ],
   "source": [
    "df.bathroomcnt.value_counts()"
   ]
  },
  {
   "cell_type": "code",
   "execution_count": 37,
   "metadata": {},
   "outputs": [
    {
     "data": {
      "text/plain": [
       "207000.0    7\n",
       "482243.0    5\n",
       "381640.0    5\n",
       "288956.0    4\n",
       "393502.0    4\n",
       "           ..\n",
       "192504.0    1\n",
       "212207.0    1\n",
       "266625.0    1\n",
       "138321.0    1\n",
       "156610.0    1\n",
       "Name: taxvaluedollarcnt, Length: 2109, dtype: int64"
      ]
     },
     "execution_count": 37,
     "metadata": {},
     "output_type": "execute_result"
    }
   ],
   "source": [
    "df.taxvaluedollarcnt.value_counts()"
   ]
  },
  {
   "cell_type": "code",
   "execution_count": 38,
   "metadata": {},
   "outputs": [
    {
     "data": {
      "text/plain": [
       "6059.0    2392\n",
       "6037.0       1\n",
       "Name: fips, dtype: int64"
      ]
     },
     "execution_count": 38,
     "metadata": {},
     "output_type": "execute_result"
    }
   ],
   "source": [
    "df.fips.value_counts()"
   ]
  },
  {
   "cell_type": "code",
   "execution_count": 39,
   "metadata": {},
   "outputs": [
    {
     "data": {
      "text/plain": [
       "<AxesSubplot:>"
      ]
     },
     "execution_count": 39,
     "metadata": {},
     "output_type": "execute_result"
    },
    {
     "data": {
      "image/png": "[encoded data removed]",
      "text/plain": [
       "<Figure size 432x288 with 1 Axes>"
      ]
     },
     "metadata": {
      "needs_background": "light"
     },
     "output_type": "display_data"
    }
   ],
   "source": [
    "df.taxvaluedollarcnt.hist()"
   ]
  },
  {
   "cell_type": "code",
   "execution_count": null,
   "metadata": {},
   "outputs": [],
   "source": []
  }
 ],
 "metadata": {
  "kernelspec": {
   "display_name": "Python 3.9.12 ('base')",
   "language": "python",
   "name": "python3"
  },
  "language_info": {
   "codemirror_mode": {
    "name": "ipython",
    "version": 3
   },
   "file_extension": ".py",
   "mimetype": "text/x-python",
   "name": "python",
   "nbconvert_exporter": "python",
   "pygments_lexer": "ipython3",
   "version": "3.9.12"
  },
  "orig_nbformat": 4,
  "vscode": {
   "interpreter": {
    "hash": "3067ead486e059ec00ffe7555bdb889e6e264a24dc711bf108106cc7baee8d5d"
   }
  }
 },
 "nbformat": 4,
 "nbformat_minor": 2
}
